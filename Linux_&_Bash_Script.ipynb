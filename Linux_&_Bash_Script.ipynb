{
  "nbformat": 4,
  "nbformat_minor": 0,
  "metadata": {
    "colab": {
      "provenance": [],
      "authorship_tag": "ABX9TyMk6oD4fPl47MtHggmEI/d4"
    },
    "kernelspec": {
      "name": "python3",
      "display_name": "Python 3"
    },
    "language_info": {
      "name": "python"
    }
  },
  "cells": [
    {
      "cell_type": "markdown",
      "source": [],
      "metadata": {
        "id": "azJY1Jz0J05c"
      }
    },
    {
      "cell_type": "code",
      "source": [
        "#Coding: Linux & BASh Fundamentals\n",
        "#Project 1\n",
        "#Print your name\n",
        "echo “Oluwaseyi_Ashaka”\n",
        "#Create a folder titled your name\n",
        "mkdir Oluwaseyi_Ashaka\n",
        "#Create another new directory titled biocomputing and change to that directory with one line of command\n",
        "mkdir biocomputing && cd biocomputing\n",
        "#Download these 3 files:\n",
        "#https://raw.githubusercontent.com/josoga2/dataset-repos/main/wildtype.fna\n",
        "#https://raw.githubusercontent.com/josoga2/dataset-repos/main/wildtype.gbk\n",
        "#https://raw.githubusercontent.com/josoga2/dataset-repos/main/wildtype.gbk\n",
        "\n",
        "wget https://raw.githubusercontent.com/josoga2/dataset-repos/main/wildtype.fna\n",
        "wget https://raw.githubusercontent.com/josoga2/dataset-repos/main/wildtype.gbk\n",
        "wget https://raw.githubusercontent.com/josoga2/dataset-repos/main/wildtype.gbk\n",
        "#Move the .fna file to the folder titled your name\n",
        "mv *.fna ~/Oluwaseyi_Ashaka/\n",
        "#Delete the duplicate gbk file\n",
        "rm *gbk.1\n",
        "#Confirm if the .fna file is mutant or wild type (tatatata vs tata)\n",
        "grep tatatata wildtype.fna\n",
        "grep tata wildtype.fna\n",
        "\n",
        "#If mutant, print all matching lines into a new file\n",
        "grep tatatata wildtype.fna > mutant_1.txt\n",
        "#Count number of lines (excluding header) in the .gbk file\n",
        "grep -v LOCUS wildtype.gbk |wc -l\n",
        "#Print the sequence length of the .gbk file. (Use the LOCUS tag in the first line)\n",
        "grep LOCUS wildtype.gbk\n",
        "#Print the source organism of the .gbk file. (Use the SOURCE tag in the first line)\n",
        "grep SOURCE wildtype.gbk\n",
        "#List all the gene names of the .gbk file. Hint {grep '/gene='}\n",
        "grep '/gene=' wildtype.gbk\n",
        "#Clear your terminal space and print all commands used today\n",
        "clear\n",
        "history\n",
        "ls biocomputing/ Oluwaseyi_Ashaka/\n",
        "\n",
        "\n",
        "#Project 2\n",
        "#Activate your base conda environment\n",
        "conda activate\n",
        "#create a conda environment named funtools\n",
        "conda create -n funtools python=3.10\n",
        "#Activate the funtools environment\n",
        "conda activate funtools\n",
        "#Install Figlet using conda or apt-get\n",
        "conda config --add channels conda-forge\n",
        "conda config --set channel_priority strict\n",
        " conda install pyfiglet\n",
        "sudo apt-get install figlet\n",
        "#Run figlet <your name>\n",
        "figlet Oluwaseyi Ashaka\n",
        "#Install bwa through the bioconda channel\n",
        "conda install bwa\n",
        "#Install blast through the bioconda channel\n",
        "conda install blast\n",
        "#Install samtools through the bioconda channel\n",
        "conda install samtools\n",
        "#Install bedtools through the bioconda channel\n",
        "conda install bedtools\n",
        "#Install spades.py through the bioconda channel\n",
        "conda create -n spades_env spades\n",
        " conda install spades\n",
        "#Install bcftools through the bioconda channel\n",
        "conda install bcftools\n",
        "#Install fastp through the bioconda channel\n",
        "conda install fastp\n",
        "#Install multiqc through the bioconda channel\n",
        "conda config --add channels bioconda\n",
        "conda config --add channels conda-forge\n",
        "conda config --set channel_priority strict\n",
        "conda create --name myenv python=3.11\n",
        "conda activate myenv\n",
        "conda install multiqc\n",
        "\n"
      ],
      "metadata": {
        "id": "UWklzBouKOYP"
      },
      "execution_count": null,
      "outputs": []
    }
  ]
}